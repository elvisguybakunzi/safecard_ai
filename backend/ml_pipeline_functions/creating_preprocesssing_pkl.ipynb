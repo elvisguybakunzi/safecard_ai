{
 "cells": [
  {
   "cell_type": "code",
   "execution_count": 1,
   "metadata": {},
   "outputs": [],
   "source": [
    "from preprocessing import DataPreprocessor\n",
    "\n",
    "# Create an instance of the DataPreprocessor\n",
    "preprocessor = DataPreprocessor()\n"
   ]
  },
  {
   "cell_type": "code",
   "execution_count": 2,
   "metadata": {},
   "outputs": [],
   "source": [
    "# Load the training data\n",
    "data_info = preprocessor.load_data('data/card_transdata.csv')\n",
    "\n",
    "# Access the dataframe\n",
    "df = data_info['dataframe']\n"
   ]
  },
  {
   "cell_type": "code",
   "execution_count": 3,
   "metadata": {},
   "outputs": [],
   "source": [
    "# Preprocess the training data\n",
    "preprocessed_data = preprocessor.preprocess(df)\n"
   ]
  },
  {
   "cell_type": "code",
   "execution_count": null,
   "metadata": {},
   "outputs": [
    {
     "name": "stdout",
     "output_type": "stream",
     "text": [
      "Preprocessor saved successfully.\n"
     ]
    }
   ],
   "source": [
    "# # Save the preprocessor\n",
    "# preprocessor.save_preprocessor('preprocessor.pkl')\n",
    "# print(\"Preprocessor saved successfully.\")\n"
   ]
  }
 ],
 "metadata": {
  "kernelspec": {
   "display_name": "primary",
   "language": "python",
   "name": "python3"
  },
  "language_info": {
   "codemirror_mode": {
    "name": "ipython",
    "version": 3
   },
   "file_extension": ".py",
   "mimetype": "text/x-python",
   "name": "python",
   "nbconvert_exporter": "python",
   "pygments_lexer": "ipython3",
   "version": "3.12.7"
  }
 },
 "nbformat": 4,
 "nbformat_minor": 2
}
